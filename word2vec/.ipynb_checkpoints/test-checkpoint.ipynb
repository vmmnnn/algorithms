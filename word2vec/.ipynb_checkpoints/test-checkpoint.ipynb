{
 "cells": [
  {
   "cell_type": "code",
   "execution_count": 1,
   "metadata": {},
   "outputs": [],
   "source": [
    "from Word2Vec import Word2Vec\n",
    "import pickle"
   ]
  },
  {
   "cell_type": "code",
   "execution_count": 2,
   "metadata": {},
   "outputs": [],
   "source": [
    "with open('word2vec_model.pkl', 'rb') as f:\n",
    "    w2v = pickle.load(f)"
   ]
  },
  {
   "cell_type": "code",
   "execution_count": 3,
   "metadata": {},
   "outputs": [
    {
     "data": {
      "text/plain": [
       "[('лев', 0.2889974),\n",
       " ('мечтательного', 0.25668845),\n",
       " ('против', 0.25269136),\n",
       " ('друзья', 0.24370843),\n",
       " ('итальянски', 0.23255584)]"
      ]
     },
     "execution_count": 3,
     "metadata": {},
     "output_type": "execute_result"
    }
   ],
   "source": [
    "w2v.get_closest(\"война\")"
   ]
  },
  {
   "cell_type": "code",
   "execution_count": 4,
   "metadata": {},
   "outputs": [
    {
     "data": {
      "text/plain": [
       "[('весь', 0.3151561),\n",
       " ('я', 0.26770008),\n",
       " ('спасет', 0.24373806),\n",
       " ('телом', 0.23326986),\n",
       " ('самому', 0.23066308)]"
      ]
     },
     "execution_count": 4,
     "metadata": {},
     "output_type": "execute_result"
    }
   ],
   "source": [
    "w2v.get_closest(\"мир\")"
   ]
  },
  {
   "cell_type": "code",
   "execution_count": 5,
   "metadata": {},
   "outputs": [
    {
     "data": {
      "text/plain": [
       "[('французское', 0.27063638),\n",
       " ('королевы', 0.2411049),\n",
       " (\"m'en\", 0.23905014),\n",
       " ('навсегда', 0.23521008),\n",
       " ('проговорила', 0.22600019)]"
      ]
     },
     "execution_count": 5,
     "metadata": {},
     "output_type": "execute_result"
    }
   ],
   "source": [
    "w2v.get_closest(\"общество\")"
   ]
  },
  {
   "cell_type": "code",
   "execution_count": 6,
   "metadata": {},
   "outputs": [
    {
     "data": {
      "text/plain": [
       "[(\"d'agir\", 0.26931903),\n",
       " ('подать', 0.25361878),\n",
       " ('истинная', 0.24740775),\n",
       " ('милом', 0.23825993),\n",
       " ('черноглазая', 0.23478355)]"
      ]
     },
     "execution_count": 6,
     "metadata": {},
     "output_type": "execute_result"
    }
   ],
   "source": [
    "w2v.get_closest(\"любовь\")"
   ]
  },
  {
   "cell_type": "code",
   "execution_count": 7,
   "metadata": {},
   "outputs": [
    {
     "data": {
      "text/plain": [
       "[('женское', 0.25989324),\n",
       " ('оказать', 0.25438228),\n",
       " ('устланной', 0.24516171),\n",
       " ('готовы', 0.24234128),\n",
       " ('блюде', 0.23738222)]"
      ]
     },
     "execution_count": 7,
     "metadata": {},
     "output_type": "execute_result"
    }
   ],
   "source": [
    "w2v.get_closest(\"платье\")"
   ]
  },
  {
   "cell_type": "code",
   "execution_count": 8,
   "metadata": {},
   "outputs": [
    {
     "data": {
      "text/plain": [
       "[('папенька', 0.27515462),\n",
       " ('marieiages', 0.2741583),\n",
       " ('пойду', 0.26727518),\n",
       " ('нравственно', 0.25885502),\n",
       " ('доктор', 0.25867444)]"
      ]
     },
     "execution_count": 8,
     "metadata": {},
     "output_type": "execute_result"
    }
   ],
   "source": [
    "w2v.get_closest(\"мужчина\")"
   ]
  },
  {
   "cell_type": "code",
   "execution_count": 9,
   "metadata": {},
   "outputs": [
    {
     "data": {
      "text/plain": [
       "[('веселость', 0.29532304),\n",
       " ('ii', 0.28392842),\n",
       " ('гвардию…', 0.26994437),\n",
       " ('наполняться', 0.2664202),\n",
       " ('венецианское', 0.2640388)]"
      ]
     },
     "execution_count": 9,
     "metadata": {},
     "output_type": "execute_result"
    }
   ],
   "source": [
    "w2v.get_closest(\"гостиная\")"
   ]
  }
 ],
 "metadata": {
  "kernelspec": {
   "display_name": "Python 3",
   "language": "python",
   "name": "python3"
  },
  "language_info": {
   "codemirror_mode": {
    "name": "ipython",
    "version": 3
   },
   "file_extension": ".py",
   "mimetype": "text/x-python",
   "name": "python",
   "nbconvert_exporter": "python",
   "pygments_lexer": "ipython3",
   "version": "3.8.5"
  }
 },
 "nbformat": 4,
 "nbformat_minor": 4
}
