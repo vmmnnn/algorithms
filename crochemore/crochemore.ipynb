{
 "cells": [
  {
   "cell_type": "code",
   "execution_count": 1,
   "metadata": {},
   "outputs": [],
   "source": [
    "def make_lvl_1(S):\n",
    "    lvl_1 = {}\n",
    "    for i in range(len(S)):\n",
    "        key = S[i]\n",
    "        if key in lvl_1.keys():\n",
    "            lvl_1[key].append(i)\n",
    "        else:\n",
    "            lvl_1[key] = [i]\n",
    "    return lvl_1"
   ]
  },
  {
   "cell_type": "code",
   "execution_count": 2,
   "metadata": {},
   "outputs": [],
   "source": [
    "def make_next_lvl(S, prev_lvl, prev_length, min_repeats):\n",
    "    next_lvl = {}\n",
    "    L = len(S)\n",
    "    \n",
    "    for prefix in prev_lvl.keys():\n",
    "        prefix_idx_list = prev_lvl[prefix]\n",
    "        \n",
    "        for prefix_idx in prefix_idx_list:\n",
    "            new_idx = prefix_idx + prev_length\n",
    "            \n",
    "            # next symbol is end of line\n",
    "            if new_idx >= L:\n",
    "                break\n",
    "                \n",
    "            new_elem = S[new_idx]\n",
    "            cur_str = prefix + new_elem\n",
    "            \n",
    "            if cur_str in next_lvl.keys():\n",
    "                next_lvl[cur_str].append(prefix_idx)\n",
    "            else:\n",
    "                next_lvl[cur_str] = [prefix_idx]\n",
    "    \n",
    "    return {k: v for k, v in next_lvl.items() if len(v) >= min_repeats}"
   ]
  },
  {
   "cell_type": "code",
   "execution_count": 3,
   "metadata": {},
   "outputs": [],
   "source": [
    "# Crochemore algorithm for finding substrings that repeat in a string\n",
    "#\n",
    "# S            - string\n",
    "# min_length   - min length of substrings\n",
    "# min_repeats  - how many times minimum shout a substring appear in S\n",
    "#              - 2 by default\n",
    "#              - 1 for finding all substrings\n",
    "# limit_length - True for finding only substrings of length min_length\n",
    "#              - False for finding all substrings of length min_length and longer. False by default\n",
    "#\n",
    "# Examples:\n",
    "#\n",
    "#  S = \"abaababaabaab\"\n",
    "#\n",
    "#  crochemore(S1, 2, 4)\n",
    "#    > [{'ab': [0, 3, 5, 8, 11], 'ba': [1, 4, 6, 9]}, \n",
    "#       {'aba': [0, 3, 5, 8]}]\n",
    "#\n",
    "#  crochemore(S1, 3, 3, True)\n",
    "#    > [{'aba': [0, 3, 5, 8], 'aab': [2, 7, 10], 'baa': [1, 6, 9]}]\n",
    "\n",
    "\n",
    "def crochemore(S, min_length, min_repeats = 2, limit_length = False):\n",
    "    prev_lvl = make_lvl_1(S)\n",
    "    cur_len = 1\n",
    "    res = []\n",
    "    \n",
    "    while cur_len < min_length or limit_length == False:\n",
    "        next_lvl = make_next_lvl(S, prev_lvl, cur_len, min_repeats)\n",
    "        cur_len += 1\n",
    "        \n",
    "        # no substrings found\n",
    "        if len(next_lvl.keys()) == 0:\n",
    "            break\n",
    "        \n",
    "        if cur_len >= min_length:\n",
    "            res.append(next_lvl)\n",
    "        \n",
    "        prev_lvl = next_lvl\n",
    "    \n",
    "    return res"
   ]
  }
 ],
 "metadata": {
  "kernelspec": {
   "display_name": "Python 3",
   "language": "python",
   "name": "python3"
  },
  "language_info": {
   "codemirror_mode": {
    "name": "ipython",
    "version": 3
   },
   "file_extension": ".py",
   "mimetype": "text/x-python",
   "name": "python",
   "nbconvert_exporter": "python",
   "pygments_lexer": "ipython3",
   "version": "3.8.5"
  }
 },
 "nbformat": 4,
 "nbformat_minor": 4
}
